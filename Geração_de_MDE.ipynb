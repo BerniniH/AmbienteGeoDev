{
  "nbformat": 4,
  "nbformat_minor": 0,
  "metadata": {
    "colab": {
      "private_outputs": true,
      "provenance": [],
      "authorship_tag": "ABX9TyOGAvXp1t1200BSkWQv8UlB",
      "include_colab_link": true
    },
    "kernelspec": {
      "name": "python3",
      "display_name": "Python 3"
    },
    "language_info": {
      "name": "python"
    }
  },
  "cells": [
    {
      "cell_type": "markdown",
      "metadata": {
        "id": "view-in-github",
        "colab_type": "text"
      },
      "source": [
        "<a href=\"https://colab.research.google.com/github/BerniniH/AmbienteGeoDev/blob/main/Gera%C3%A7%C3%A3o_de_MDE.ipynb\" target=\"_parent\"><img src=\"https://colab.research.google.com/assets/colab-badge.svg\" alt=\"Open In Colab\"/></a>"
      ]
    },
    {
      "cell_type": "code",
      "execution_count": null,
      "metadata": {
        "id": "Kqdxj-z616Df"
      },
      "outputs": [],
      "source": [
        "# Passo 1: Montar o Google Drive\n",
        "from google.colab import drive\n",
        "drive.mount('/content/drive')\n"
      ]
    },
    {
      "cell_type": "code",
      "source": [
        "# Passo 2: Instalar bibliotecas necessárias\n",
        "!pip install geopandas\n",
        "!pip install matplotlib\n",
        "!pip install scipy\n",
        "!pip install rasterio"
      ],
      "metadata": {
        "collapsed": true,
        "id": "7gQPoUVs1-VS"
      },
      "execution_count": null,
      "outputs": []
    },
    {
      "cell_type": "code",
      "source": [
        "# Passo 3: Importar bibliotecas\n",
        "import geopandas as gpd\n",
        "import numpy as np\n",
        "from scipy.interpolate import griddata\n",
        "import matplotlib.pyplot as plt\n",
        "import rasterio"
      ],
      "metadata": {
        "id": "vsFhlhdf2Bjy"
      },
      "execution_count": null,
      "outputs": []
    },
    {
      "cell_type": "code",
      "source": [
        "# Verificar as colunas disponíveis\n",
        "print(curvas_nivel.columns)  # Verifique o nome correto da coluna de elevação"
      ],
      "metadata": {
        "id": "X8viLy8f8vfZ"
      },
      "execution_count": null,
      "outputs": []
    },
    {
      "cell_type": "code",
      "source": [
        "# Passo 5: Substituir 'elevation' pelo nome correto da coluna de elevação\n",
        "# Exemplo: Supondo que a coluna se chame 'Cota'\n",
        "pontos = np.array([(geom.xy[0][0], geom.xy[1][0], elev)\n",
        "                   for geom, elev in zip(curvas_nivel.geometry, curvas_nivel['Cota'])])  # Substitua pelo nome correto\n",
        "\n",
        "# Passo 6: Definir a grade para interpolação (resolução de 2 metros)\n",
        "x_min, x_max = min(pontos[:, 0]), max(pontos[:, 0])\n",
        "y_min, y_max = min(pontos[:, 1]), max(pontos[:, 1])\n",
        "\n",
        "# Criação da grade de 2 metros de resolução\n",
        "grid_x, grid_y = np.mgrid[x_min:x_max:2, y_min:y_max:2]\n",
        "\n",
        "# Passo 7: Interpolar os valores de elevação para a grade com método 'nearest' (mais leve)\n",
        "grid_z = griddata(pontos[:, :2], pontos[:, 2], (grid_x, grid_y), method='nearest')"
      ],
      "metadata": {
        "collapsed": true,
        "id": "W72n3Nni2EVb"
      },
      "execution_count": null,
      "outputs": []
    },
    {
      "cell_type": "code",
      "source": [
        "from rasterio.transform import from_origin # Import the from_origin function from rasterio.transform\n",
        "transform = from_origin(x_min, y_max, 2, 2)  # A resolução é de 2 metros"
      ],
      "metadata": {
        "id": "QJG5fZ999Pfh"
      },
      "execution_count": null,
      "outputs": []
    },
    {
      "cell_type": "code",
      "source": [
        "# Passo 9: Salvar o MDE como GeoTIFF (EPSG:31984)\n",
        "tif_output_path = '/content/drive/MyDrive/Colab Notebooks/outuput/MDE_expansao.tif'\n",
        "with rasterio.open(\n",
        "    tif_output_path,\n",
        "    'w',\n",
        "    driver='GTiff',\n",
        "    height=grid_z.shape[0],\n",
        "    width=grid_z.shape[1],\n",
        "    count=1,\n",
        "    dtype=grid_z.dtype,\n",
        "    crs='EPSG:31984',  # Projeção SIRGAS 2000 / UTM zone 24S\n",
        "    transform=transform,\n",
        ") as dst:\n",
        "    dst.write(grid_z, 1)  # Escreve a matriz de elevação no arquivo GeoTIFF"
      ],
      "metadata": {
        "id": "fnylVop090E5"
      },
      "execution_count": null,
      "outputs": []
    },
    {
      "cell_type": "code",
      "source": [
        "# Passo 10: Mover o arquivo para o Google Drive\n",
        "# Defina a pasta de destino no Google Drive\n",
        "drive_path = '/content/drive/MyDrive/Colab Notebooks/outuput/MDE_expansao.tif'\n",
        "os.replace(tif_output_path, drive_path)\n",
        "\n",
        "print(f\"GeoTIFF salvo no Google Drive em: {drive_path}\")"
      ],
      "metadata": {
        "id": "1RN96pwe92Eg"
      },
      "execution_count": null,
      "outputs": []
    },
    {
      "source": [
        "# Passo 10: Mover o arquivo para o Google Drive\n",
        "# Defina a pasta de destino no Google Drive\n",
        "drive_path = '/content/drive/MyDrive/Colab Notebooks/outuput/MDE_expansao.tif'\n",
        "\n",
        "# Import the os module\n",
        "import os\n",
        "\n",
        "os.replace(tif_output_path, drive_path)\n",
        "\n",
        "print(f\"GeoTIFF salvo no Google Drive em: {drive_path}\")"
      ],
      "cell_type": "code",
      "metadata": {
        "id": "un5UW62Z_CUJ"
      },
      "execution_count": null,
      "outputs": []
    }
  ]
}