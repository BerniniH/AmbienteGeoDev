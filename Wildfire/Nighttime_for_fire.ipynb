{
  "nbformat": 4,
  "nbformat_minor": 0,
  "metadata": {
    "colab": {
      "private_outputs": true,
      "provenance": [],
      "authorship_tag": "ABX9TyNJ7hWvVPQeTzqTV86JdqYs",
      "include_colab_link": true
    },
    "kernelspec": {
      "name": "python3",
      "display_name": "Python 3"
    },
    "language_info": {
      "name": "python"
    }
  },
  "cells": [
    {
      "cell_type": "markdown",
      "metadata": {
        "id": "view-in-github",
        "colab_type": "text"
      },
      "source": [
        "<a href=\"https://colab.research.google.com/github/BerniniH/AmbienteGeoDev/blob/main/Nighttime_for_fire.ipynb\" target=\"_parent\"><img src=\"https://colab.research.google.com/assets/colab-badge.svg\" alt=\"Open In Colab\"/></a>"
      ]
    },
    {
      "cell_type": "code",
      "execution_count": null,
      "metadata": {
        "id": "aFQwE-PSTQjl"
      },
      "outputs": [],
      "source": [
        "from ipyleaflet import Map, WMSLayer, LayersControl\n",
        "import ipywidgets as widgets\n",
        "from ipywidgets import VBox"
      ]
    },
    {
      "cell_type": "code",
      "source": [
        "# Cria o mapa interativo centrado na posição desejada\n",
        "m = Map(center=(-15, -63), zoom=9)\n",
        "\n",
        "# URL WMS da NASA\n",
        "wms_url = \"https://gibs.earthdata.nasa.gov/wms/epsg4326/best/wms.cgi\"\n",
        "\n",
        "# Camadas WMS\n",
        "layer_night_image = \"VIIRS_SNPP_DayNightBand_At_Sensor_Radiance\"\n",
        "layer_thermal_anomalies = \"VIIRS_SNPP_Thermal_Anomalies_375m_Night\""
      ],
      "metadata": {
        "id": "0wkCvuozUsqK"
      },
      "execution_count": null,
      "outputs": []
    },
    {
      "cell_type": "code",
      "source": [
        "# Adiciona a camada de imagens noturnas (radiância)\n",
        "wms_layer_night_image = WMSLayer(\n",
        "    url=wms_url,\n",
        "    layers=layer_night_image,\n",
        "    name=\"Imagens Noturnas - VIIRS\",\n",
        "    format=\"image/png\",\n",
        "    transparent=True,\n",
        "    attribution=\"NASA\"\n",
        ")\n",
        "\n",
        "# Adiciona a camada de focos de calor noturnos (anomalias térmicas)\n",
        "wms_layer_thermal_anomalies = WMSLayer(\n",
        "    url=wms_url,\n",
        "    layers=layer_thermal_anomalies,\n",
        "    name=\"Focos de Calor Noturnos - VIIRS\",\n",
        "    format=\"image/png\",\n",
        "    transparent=True,\n",
        "    attribution=\"NASA\"\n",
        ")"
      ],
      "metadata": {
        "id": "e_JmhVnTU54C"
      },
      "execution_count": null,
      "outputs": []
    },
    {
      "cell_type": "code",
      "source": [
        "# Adiciona o controle de camadas\n",
        "m.add_layer(wms_layer_night_image)\n",
        "m.add_layer(wms_layer_thermal_anomalies)\n",
        "layers_control = LayersControl(position='topright')\n",
        "m.add_control(layers_control)\n",
        "\n",
        "# Criando widgets para habilitar/desabilitar as camadas\n",
        "toggle_night_image = widgets.Checkbox(\n",
        "    value=True,\n",
        "    description=\"Exibir Imagens Noturnas\",\n",
        "    indent=False\n",
        ")\n",
        "\n",
        "toggle_thermal_anomalies = widgets.Checkbox(\n",
        "    value=True,\n",
        "    description=\"Exibir Focos de Calor\",\n",
        "    indent=False\n",
        ")\n",
        "\n",
        "# Funções para habilitar/desabilitar as camadas\n",
        "def toggle_night_image_change(change):\n",
        "    if change['new']:\n",
        "        m.add_layer(wms_layer_night_image)\n",
        "    else:\n",
        "        m.remove_layer(wms_layer_night_image)\n",
        "\n",
        "def toggle_thermal_anomalies_change(change):\n",
        "    if change['new']:\n",
        "        m.add_layer(wms_layer_thermal_anomalies)\n",
        "    else:\n",
        "        m.remove_layer(wms_layer_thermal_anomalies)\n",
        "\n",
        "# Conectando os widgets às funções de controle\n",
        "toggle_night_image.observe(toggle_night_image_change, 'value')\n",
        "toggle_thermal_anomalies.observe(toggle_thermal_anomalies_change, 'value')\n",
        "\n",
        "# Exibindo os widgets e o mapa\n",
        "display(widgets.VBox([toggle_night_image, toggle_thermal_anomalies]))\n",
        "display(m)"
      ],
      "metadata": {
        "id": "SQ3g3lVxVCTA"
      },
      "execution_count": null,
      "outputs": []
    }
  ]
}
